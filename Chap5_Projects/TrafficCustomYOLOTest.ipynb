{
  "nbformat": 4,
  "nbformat_minor": 0,
  "metadata": {
    "colab": {
      "name": "TrafficCustomYOLOTest.ipynb",
      "provenance": []
    },
    "kernelspec": {
      "name": "python3",
      "display_name": "Python 3"
    },
    "language_info": {
      "name": "python"
    }
  },
  "cells": [
    {
      "cell_type": "markdown",
      "metadata": {
        "id": "H7kItxbhh3yu"
      },
      "source": [
        "#1. Mount Drive"
      ]
    },
    {
      "cell_type": "code",
      "metadata": {
        "colab": {
          "base_uri": "https://localhost:8080/"
        },
        "id": "LAXaINMch1_s",
        "outputId": "f3ea3fbc-84d2-4bdf-8bce-c688970dfbe7"
      },
      "source": [
        "from google.colab import drive\n",
        "drive.mount('/gdrive')"
      ],
      "execution_count": 10,
      "outputs": [
        {
          "output_type": "stream",
          "text": [
            "Drive already mounted at /gdrive; to attempt to forcibly remount, call drive.mount(\"/gdrive\", force_remount=True).\n"
          ],
          "name": "stdout"
        }
      ]
    },
    {
      "cell_type": "code",
      "metadata": {
        "id": "HzsgtaLYiLww"
      },
      "source": [
        "!cp -r /gdrive/MyDrive/Colab/Study_Autonomous_Driving/Darknet/trafficsign/ ."
      ],
      "execution_count": 11,
      "outputs": []
    },
    {
      "cell_type": "code",
      "metadata": {
        "colab": {
          "base_uri": "https://localhost:8080/"
        },
        "id": "STlaXbrKjMkm",
        "outputId": "46dc5acd-245f-42cf-c07f-57280d24fd8c"
      },
      "source": [
        "!ls -al ./trafficsign"
      ],
      "execution_count": 12,
      "outputs": [
        {
          "output_type": "stream",
          "text": [
            "total 241048\n",
            "drwx------ 4 root root      4096 Jun 10 06:46 .\n",
            "drwxr-xr-x 1 root root      4096 Jun 10 06:46 ..\n",
            "-rw------- 1 root root        35 Jun 10 07:32 classes.names\n",
            "drwx------ 2 root root      4096 Jun 10 06:46 Meta\n",
            "drwx------ 2 root root      4096 Jun 10 06:46 Test\n",
            "-rw------- 1 root root    427897 Jun 10 07:32 Test.csv\n",
            "-rw------- 1 root root      8332 Jun 10 07:32 traffic_train_yolo.cfg\n",
            "-rw------- 1 root root 246370008 Jun 10 07:32 traffic-train-yolo_final.weights\n"
          ],
          "name": "stdout"
        }
      ]
    },
    {
      "cell_type": "code",
      "metadata": {
        "id": "Kgwg7fgsjOkD"
      },
      "source": [
        "weight_file = './trafficsign/traffic-train-yolo_final.weights'\n",
        "cfg_file = './trafficsign/traffic_train_yolo.cfg'\n",
        "name_file = './trafficsign/classes.names'\n",
        "\n",
        "min_confidence = 0.5"
      ],
      "execution_count": 13,
      "outputs": []
    },
    {
      "cell_type": "code",
      "metadata": {
        "id": "CHwZxvAajkjS"
      },
      "source": [
        "import cv2\n",
        "import numpy as np\n",
        "from google.colab.patches import cv2_imshow"
      ],
      "execution_count": 14,
      "outputs": []
    },
    {
      "cell_type": "code",
      "metadata": {
        "id": "m2-2YeZOjpsP"
      },
      "source": [
        "# load YOLO\n",
        "net = cv2.dnn.readNet(weight_file, cfg_file)\n",
        "\n",
        "layer_names = net.getLayerNames()\n",
        "output_layers = [layer_names[i[0]-1] for i in net.getUnconnectedOutLayers()]"
      ],
      "execution_count": 15,
      "outputs": []
    },
    {
      "cell_type": "code",
      "metadata": {
        "colab": {
          "base_uri": "https://localhost:8080/"
        },
        "id": "d68yymifj_1J",
        "outputId": "e75d2643-28cf-4873-ce80-b16871bf5eca"
      },
      "source": [
        "classes = []\n",
        "with open(name_file, 'r') as f:\n",
        "  classes = [line.strip() for line in f.readlines()]\n",
        "print(classes)"
      ],
      "execution_count": 16,
      "outputs": [
        {
          "output_type": "stream",
          "text": [
            "['Prohibitory', 'Danger', 'Mandatory', 'Other']\n"
          ],
          "name": "stdout"
        }
      ]
    },
    {
      "cell_type": "code",
      "metadata": {
        "colab": {
          "base_uri": "https://localhost:8080/",
          "height": 88
        },
        "id": "yujr1OGGkRIu",
        "outputId": "900551dc-7f12-4634-cc03-d51c6fa54223"
      },
      "source": [
        "file_name = './trafficsign/Test/00000.png'\n",
        "img = cv2.imread(file_name)\n",
        "height, width, channel = img.shape\n",
        "cv2_imshow(img)\n",
        "print(height, width)"
      ],
      "execution_count": 17,
      "outputs": [
        {
          "output_type": "display_data",
          "data": {
            "image/png": "[encoded data removed]",
            "text/plain": [
              "<PIL.Image.Image image mode=RGB size=53x54 at 0x7F60F46CBF10>"
            ]
          },
          "metadata": {
            "tags": []
          }
        },
        {
          "output_type": "stream",
          "text": [
            "54 53\n"
          ],
          "name": "stdout"
        }
      ]
    },
    {
      "cell_type": "code",
      "metadata": {
        "colab": {
          "base_uri": "https://localhost:8080/",
          "height": 88
        },
        "id": "fsK9Wj8CmonN",
        "outputId": "aba764bf-1554-43bf-8cdc-0df98912773a"
      },
      "source": [
        "blob = cv2.dnn.blobFromImage(img, 0.00392, (416,416), (0,0,0), True, crop=False)\n",
        "\n",
        "net.setInput(blob)\n",
        "outs = net.forward(output_layers) \n",
        "\n",
        "class_ids = []\n",
        "confidences = []\n",
        "boxes = []\n",
        "\n",
        "for out in outs:\n",
        "  for detection in out:\n",
        "    scores = detection[5:]\n",
        "    class_id = np.argmax(scores)\n",
        "    confidence = scores[class_id]\n",
        "    if confidence > min_confidence:\n",
        "      # object detect\n",
        "      center_x = int(detection[0] * width)\n",
        "      center_y = int(detection[1] * height)\n",
        "      w = int(detection[2] * width)\n",
        "      h = int(detection[3] * height)\n",
        "\n",
        "      # rectangle coordinates\n",
        "      x = int(center_x - w/2)\n",
        "      y = int(center_y - h/2)\n",
        "\n",
        "      boxes.append([x,y,w,h])\n",
        "      confidences.append(float(confidence))\n",
        "      class_ids.append(class_id)\n",
        "\n",
        "indexes = cv2.dnn.NMSBoxes(boxes, confidences, min_confidence, 0.4)\n",
        "font = cv2.FONT_HERSHEY_COMPLEX\n",
        "for i in range(len(boxes)):\n",
        "  if i in indexes:\n",
        "    x, y, w, h = boxes[i]\n",
        "    label = str(classes[class_ids[i]])\n",
        "    print(class_ids[i], label)\n",
        "    cv2.rectangle(img, (x,y), (x+w,y+h), (0,255,0), 2)\n",
        "    cv2.putText(img, label, (x,y+30), font, 0.3, (0,255,0), 1)\n",
        "\n",
        "cv2_imshow(img)"
      ],
      "execution_count": 18,
      "outputs": [
        {
          "output_type": "stream",
          "text": [
            "0 Prohibitory\n"
          ],
          "name": "stdout"
        },
        {
          "output_type": "display_data",
          "data": {
            "image/png": "[encoded data removed]",
            "text/plain": [
              "<PIL.Image.Image image mode=RGB size=53x54 at 0x7F60F43FFC10>"
            ]
          },
          "metadata": {
            "tags": []
          }
        }
      ]
    }
  ]
}