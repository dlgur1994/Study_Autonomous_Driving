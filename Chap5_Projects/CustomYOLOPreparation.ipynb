{
  "nbformat": 4,
  "nbformat_minor": 0,
  "metadata": {
    "colab": {
      "name": "CustomYOLOPreparation.ipynb",
      "provenance": []
    },
    "kernelspec": {
      "name": "python3",
      "display_name": "Python 3"
    },
    "language_info": {
      "name": "python"
    }
  },
  "cells": [
    {
      "cell_type": "markdown",
      "metadata": {
        "id": "QrxVmEpRYeRa"
      },
      "source": [
        "#1. Mount Drive"
      ]
    },
    {
      "cell_type": "code",
      "metadata": {
        "colab": {
          "base_uri": "https://localhost:8080/"
        },
        "id": "7SJi6uWKYhvn",
        "outputId": "4a6ed138-a328-4227-a420-178ebfcab372"
      },
      "source": [
        "from google.colab import drive\n",
        "drive.mount('/gdrive')"
      ],
      "execution_count": 1,
      "outputs": [
        {
          "output_type": "stream",
          "text": [
            "Drive already mounted at /gdrive; to attempt to forcibly remount, call drive.mount(\"/gdrive\", force_remount=True).\n"
          ],
          "name": "stdout"
        }
      ]
    },
    {
      "cell_type": "code",
      "metadata": {
        "colab": {
          "base_uri": "https://localhost:8080/"
        },
        "id": "FXM5CdNXlCOw",
        "outputId": "fea9cea2-500e-4005-9fc0-978518fad898"
      },
      "source": [
        "!ls -al '/gdrive/MyDrive/Colab/Darknet/custom'"
      ],
      "execution_count": 2,
      "outputs": [
        {
          "output_type": "stream",
          "text": [
            "total 2120\n",
            "-rw------- 1 root root     16 Jun  9 08:09 classes.names\n",
            "-rw------- 1 root root     16 Jun  9 05:43 classes.txt\n",
            "-rw------- 1 root root    195 Jun  9 08:09 custom_data.data\n",
            "-rw------- 1 root root   8330 Jun  9 05:57 custom_train_yolo.cfg\n",
            "-rw------- 1 root root  83191 Jun  9 05:37 fruit10.png\n",
            "-rw------- 1 root root     38 Jun  9 05:41 fruit10.txt\n",
            "-rw------- 1 root root 849310 Jun  9 05:31 fruit1.png\n",
            "-rw------- 1 root root     38 Jun  9 05:33 fruit1.txt\n",
            "-rw------- 1 root root  73618 Jun  9 06:42 fruit2.png\n",
            "-rw------- 1 root root     38 Jun  9 06:42 fruit2.txt\n",
            "-rw------- 1 root root 209972 Jun  9 05:35 fruit3.png\n",
            "-rw------- 1 root root     38 Jun  9 05:41 fruit3.txt\n",
            "-rw------- 1 root root 209482 Jun  9 05:34 fruit4.png\n",
            "-rw------- 1 root root     38 Jun  9 05:42 fruit4.txt\n",
            "-rw------- 1 root root 204148 Jun  9 05:35 fruit5.png\n",
            "-rw------- 1 root root     38 Jun  9 05:42 fruit5.txt\n",
            "-rw------- 1 root root 235259 Jun  9 06:42 fruit6.png\n",
            "-rw------- 1 root root     38 Jun  9 06:42 fruit6.txt\n",
            "-rw------- 1 root root 168271 Jun  9 05:36 fruit7.png\n",
            "-rw------- 1 root root     38 Jun  9 05:42 fruit7.txt\n",
            "-rw------- 1 root root  34425 Jun  9 05:36 fruit8.png\n",
            "-rw------- 1 root root     38 Jun  9 05:43 fruit8.txt\n",
            "-rw------- 1 root root  83669 Jun  9 05:37 fruit9.png\n",
            "-rw------- 1 root root     38 Jun  9 05:43 fruit9.txt\n",
            "-rw------- 1 root root     96 Jun  9 08:10 test.txt\n",
            "-rw------- 1 root root    385 Jun  9 08:09 train.txt\n"
          ],
          "name": "stdout"
        }
      ]
    },
    {
      "cell_type": "markdown",
      "metadata": {
        "id": "n7WALFKwc-zW"
      },
      "source": [
        "#2. Generate Files"
      ]
    },
    {
      "cell_type": "code",
      "metadata": {
        "colab": {
          "base_uri": "https://localhost:8080/"
        },
        "id": "B6HK9aaUYhvo",
        "outputId": "300ac2e4-84ff-4041-a626-a2394413fcf5"
      },
      "source": [
        "import os\n",
        "print(os.path.abspath(os.curdir))"
      ],
      "execution_count": 3,
      "outputs": [
        {
          "output_type": "stream",
          "text": [
            "/content\n"
          ],
          "name": "stdout"
        }
      ]
    },
    {
      "cell_type": "code",
      "metadata": {
        "id": "rZbn2YcPZS__"
      },
      "source": [
        "COLAB_DARKNET_PATH = '/gdrive/MyDrive/Colab/Darknet'\n",
        "\n",
        "DATA_PATH = '/custom'\n",
        "YOLO_IMAGE_PATH = COLAB_DARKNET_PATH + DATA_PATH\n",
        "YOLO_FORMAT_PATH = COLAB_DARKNET_PATH + DATA_PATH"
      ],
      "execution_count": 4,
      "outputs": []
    },
    {
      "cell_type": "code",
      "metadata": {
        "id": "tLuHlebGZpxd"
      },
      "source": [
        "class_count = 0\n",
        "test_percentage = 0.2\n",
        "paths = []"
      ],
      "execution_count": 5,
      "outputs": []
    },
    {
      "cell_type": "code",
      "metadata": {
        "colab": {
          "base_uri": "https://localhost:8080/"
        },
        "id": "v4Y0MZMQZy6a",
        "outputId": "1c8eae97-9ead-4fe9-83b1-7ace53f934cd"
      },
      "source": [
        "with open(YOLO_FORMAT_PATH + '/' + 'classes.names', 'w') as names, open(YOLO_FORMAT_PATH + '/' + 'classes.txt', 'r') as txt:\n",
        "  for line in txt:\n",
        "    names.write(line)\n",
        "    class_count += 1\n",
        "  print(\"classes.names is created\")"
      ],
      "execution_count": 6,
      "outputs": [
        {
          "output_type": "stream",
          "text": [
            "classes.names is created\n"
          ],
          "name": "stdout"
        }
      ]
    },
    {
      "cell_type": "code",
      "metadata": {
        "colab": {
          "base_uri": "https://localhost:8080/"
        },
        "id": "5hgSxp2tbC72",
        "outputId": "9457dd45-12a9-4b7a-d78b-45823f0f0959"
      },
      "source": [
        "with open(YOLO_FORMAT_PATH + '/' + 'custom_data.data', 'w') as data:\n",
        "  data.write('classes = ' + str(class_count) + '\\n')\n",
        "  data.write('train = ' + YOLO_FORMAT_PATH + '/' + 'train.txt' + '\\n')\n",
        "  data.write('valid = ' + YOLO_FORMAT_PATH + '/' + 'test.txt' + '\\n')\n",
        "  data.write('names = ' + YOLO_FORMAT_PATH + '/' + 'classes.names' + '\\n')\n",
        "  data.write('backup = backup')\n",
        "  print('custom_data.data is created')"
      ],
      "execution_count": 7,
      "outputs": [
        {
          "output_type": "stream",
          "text": [
            "custom_data.data is created\n"
          ],
          "name": "stdout"
        }
      ]
    },
    {
      "cell_type": "code",
      "metadata": {
        "colab": {
          "base_uri": "https://localhost:8080/"
        },
        "id": "MCz9tQiYdnu7",
        "outputId": "929fcfe8-8af6-49aa-ee70-2f20d9f533d5"
      },
      "source": [
        "os.chdir(YOLO_IMAGE_PATH) # change the directory\n",
        "current_path = os.path.abspath(os.curdir)\n",
        "print(current_path)"
      ],
      "execution_count": 8,
      "outputs": [
        {
          "output_type": "stream",
          "text": [
            "/gdrive/MyDrive/Colab/Darknet/custom\n"
          ],
          "name": "stdout"
        }
      ]
    },
    {
      "cell_type": "code",
      "metadata": {
        "colab": {
          "base_uri": "https://localhost:8080/"
        },
        "id": "_LS2uiqfd0VA",
        "outputId": "17e499eb-fe84-402d-b4d6-1b7dc985d4cb"
      },
      "source": [
        "!ls -al"
      ],
      "execution_count": 9,
      "outputs": [
        {
          "output_type": "stream",
          "text": [
            "total 2120\n",
            "-rw------- 1 root root     16 Jun  9 08:54 classes.names\n",
            "-rw------- 1 root root     16 Jun  9 05:43 classes.txt\n",
            "-rw------- 1 root root    195 Jun  9 08:54 custom_data.data\n",
            "-rw------- 1 root root   8330 Jun  9 05:57 custom_train_yolo.cfg\n",
            "-rw------- 1 root root  83191 Jun  9 05:37 fruit10.png\n",
            "-rw------- 1 root root     38 Jun  9 05:41 fruit10.txt\n",
            "-rw------- 1 root root 849310 Jun  9 05:31 fruit1.png\n",
            "-rw------- 1 root root     38 Jun  9 05:33 fruit1.txt\n",
            "-rw------- 1 root root  73618 Jun  9 06:42 fruit2.png\n",
            "-rw------- 1 root root     38 Jun  9 06:42 fruit2.txt\n",
            "-rw------- 1 root root 209972 Jun  9 05:35 fruit3.png\n",
            "-rw------- 1 root root     38 Jun  9 05:41 fruit3.txt\n",
            "-rw------- 1 root root 209482 Jun  9 05:34 fruit4.png\n",
            "-rw------- 1 root root     38 Jun  9 05:42 fruit4.txt\n",
            "-rw------- 1 root root 204148 Jun  9 05:35 fruit5.png\n",
            "-rw------- 1 root root     38 Jun  9 05:42 fruit5.txt\n",
            "-rw------- 1 root root 235259 Jun  9 06:42 fruit6.png\n",
            "-rw------- 1 root root     38 Jun  9 06:42 fruit6.txt\n",
            "-rw------- 1 root root 168271 Jun  9 05:36 fruit7.png\n",
            "-rw------- 1 root root     38 Jun  9 05:42 fruit7.txt\n",
            "-rw------- 1 root root  34425 Jun  9 05:36 fruit8.png\n",
            "-rw------- 1 root root     38 Jun  9 05:43 fruit8.txt\n",
            "-rw------- 1 root root  83669 Jun  9 05:37 fruit9.png\n",
            "-rw------- 1 root root     38 Jun  9 05:43 fruit9.txt\n",
            "-rw------- 1 root root     96 Jun  9 08:10 test.txt\n",
            "-rw------- 1 root root    385 Jun  9 08:09 train.txt\n"
          ],
          "name": "stdout"
        }
      ]
    },
    {
      "cell_type": "code",
      "metadata": {
        "id": "sUxa0vBjd38c"
      },
      "source": [
        "for current_dir, dirs, files in os.walk('.'):\n",
        "  # print(current_dir, dirs, files)\n",
        "  for f in files:\n",
        "    if f.endswith('.png'):\n",
        "      # print(f)\n",
        "      image_path = YOLO_IMAGE_PATH + '/' + f\n",
        "      # print(image_path)\n",
        "      paths.append(image_path + '\\n')"
      ],
      "execution_count": 13,
      "outputs": []
    },
    {
      "cell_type": "code",
      "metadata": {
        "colab": {
          "base_uri": "https://localhost:8080/"
        },
        "id": "ZY66M0XdfAq0",
        "outputId": "bedc1769-166d-42af-dd0e-9ea662f1bc03"
      },
      "source": [
        "paths"
      ],
      "execution_count": 14,
      "outputs": [
        {
          "output_type": "execute_result",
          "data": {
            "text/plain": [
              "['/gdrive/MyDrive/Colab/Darknet/custom/fruit1.png\\n',\n",
              " '/gdrive/MyDrive/Colab/Darknet/custom/fruit4.png\\n',\n",
              " '/gdrive/MyDrive/Colab/Darknet/custom/fruit5.png\\n',\n",
              " '/gdrive/MyDrive/Colab/Darknet/custom/fruit3.png\\n',\n",
              " '/gdrive/MyDrive/Colab/Darknet/custom/fruit7.png\\n',\n",
              " '/gdrive/MyDrive/Colab/Darknet/custom/fruit8.png\\n',\n",
              " '/gdrive/MyDrive/Colab/Darknet/custom/fruit9.png\\n',\n",
              " '/gdrive/MyDrive/Colab/Darknet/custom/fruit10.png\\n',\n",
              " '/gdrive/MyDrive/Colab/Darknet/custom/fruit2.png\\n',\n",
              " '/gdrive/MyDrive/Colab/Darknet/custom/fruit6.png\\n']"
            ]
          },
          "metadata": {
            "tags": []
          },
          "execution_count": 14
        }
      ]
    },
    {
      "cell_type": "code",
      "metadata": {
        "colab": {
          "base_uri": "https://localhost:8080/"
        },
        "id": "unYASI0sfF90",
        "outputId": "0e2bfc3a-2011-40ae-a91a-55c8105ca5c8"
      },
      "source": [
        "num_test = int(len(paths) * test_percentage)\n",
        "print(num_test)"
      ],
      "execution_count": 15,
      "outputs": [
        {
          "output_type": "stream",
          "text": [
            "2\n"
          ],
          "name": "stdout"
        }
      ]
    },
    {
      "cell_type": "code",
      "metadata": {
        "colab": {
          "base_uri": "https://localhost:8080/"
        },
        "id": "8I5qWYJ3fRwh",
        "outputId": "0ec46b15-b372-48db-adf6-3d7b965b28e3"
      },
      "source": [
        "paths_test = paths[:num_test]\n",
        "paths_train = paths[num_test:]\n",
        "\n",
        "with open(YOLO_FORMAT_PATH + '/' + 'train.txt', 'w') as train_txt:\n",
        "  for path in paths_train:\n",
        "    train_txt.write(path)\n",
        "  print(\"train.txt is created\")"
      ],
      "execution_count": 16,
      "outputs": [
        {
          "output_type": "stream",
          "text": [
            "train.txt is created\n"
          ],
          "name": "stdout"
        }
      ]
    },
    {
      "cell_type": "code",
      "metadata": {
        "colab": {
          "base_uri": "https://localhost:8080/"
        },
        "id": "VY_N_Mbrf0I5",
        "outputId": "07124044-d4dd-4984-9598-27cf92455ede"
      },
      "source": [
        "with open(YOLO_FORMAT_PATH + '/' + 'test.txt', 'w') as test_txt:\n",
        "  for path in paths_test:\n",
        "    test_txt.write(path)\n",
        "  print(\"test.txt is created\")"
      ],
      "execution_count": 17,
      "outputs": [
        {
          "output_type": "stream",
          "text": [
            "test.txt is created\n"
          ],
          "name": "stdout"
        }
      ]
    },
    {
      "cell_type": "code",
      "metadata": {
        "colab": {
          "base_uri": "https://localhost:8080/"
        },
        "id": "q9_OuXsgiacr",
        "outputId": "12cf4c79-b819-4ed8-a8e4-d50409fa5bef"
      },
      "source": [
        "!/usr/local/cuda/bin/nvcc --version"
      ],
      "execution_count": 18,
      "outputs": [
        {
          "output_type": "stream",
          "text": [
            "nvcc: NVIDIA (R) Cuda compiler driver\n",
            "Copyright (c) 2005-2020 NVIDIA Corporation\n",
            "Built on Wed_Jul_22_19:09:09_PDT_2020\n",
            "Cuda compilation tools, release 11.0, V11.0.221\n",
            "Build cuda_11.0_bu.TC445_37.28845127_0\n"
          ],
          "name": "stdout"
        }
      ]
    },
    {
      "cell_type": "code",
      "metadata": {
        "colab": {
          "base_uri": "https://localhost:8080/",
          "height": 35
        },
        "id": "RgBMziY5ifgz",
        "outputId": "83a31fd8-b299-4f0b-a6cc-b3cb715f3ec8"
      },
      "source": [
        "import platform\n",
        "platform.platform()"
      ],
      "execution_count": 19,
      "outputs": [
        {
          "output_type": "execute_result",
          "data": {
            "application/vnd.google.colaboratory.intrinsic+json": {
              "type": "string"
            },
            "text/plain": [
              "'Linux-5.4.109+-x86_64-with-Ubuntu-18.04-bionic'"
            ]
          },
          "metadata": {
            "tags": []
          },
          "execution_count": 19
        }
      ]
    }
  ]
}